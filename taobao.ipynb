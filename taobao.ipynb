{
 "cells": [
  {
   "cell_type": "code",
   "execution_count": 1,
   "metadata": {},
   "outputs": [
    {
     "name": "stderr",
     "output_type": "stream",
     "text": [
      "C:\\Users\\Administrator\\AppData\\Local\\Temp\\ipykernel_1292\\3443659396.py:5: DeprecationWarning: executable_path has been deprecated, please pass in a Service object\n",
      "  browser = webdriver.Chrome(\"./webdriver/chromedriver.exe\", options=option)\n"
     ]
    }
   ],
   "source": [
    "from selenium.webdriver.chrome.options import Options\n",
    "from selenium import webdriver\n",
    "option = Options()\n",
    "option.add_argument('--disable-blink-features=AutomationControlled')\n",
    "browser = webdriver.Chrome(\"./webdriver/chromedriver.exe\", options=option)"
   ]
  },
  {
   "cell_type": "code",
   "execution_count": 2,
   "metadata": {},
   "outputs": [],
   "source": [
    "domain = 'http://www.taobao.com'\n",
    "browser.get(domain)"
   ]
  },
  {
   "cell_type": "code",
   "execution_count": 3,
   "metadata": {},
   "outputs": [],
   "source": [
    "# taobao 已经加了二次验证，此自动登录方法失效 --2022.8.4\n",
    "browser.find_element('xpath', '//*[@id=\"J_SiteNavLogin\"]/div[1]/div[1]/a[1]').click()\n",
    "browser.find_element('xpath', '//*[@id=\"fm-login-id\"]').send_keys('********')\n",
    "browser.find_element('xpath', '//*[@id=\"fm-login-password\"]').send_keys('*******')\n",
    "browser.find_element('xpath', '//*[@id=\"login-form\"]/div[4]/button').click()"
   ]
  },
  {
   "cell_type": "code",
   "execution_count": null,
   "metadata": {},
   "outputs": [],
   "source": []
  }
 ],
 "metadata": {
  "kernelspec": {
   "display_name": "Python 3.9.12 ('spider')",
   "language": "python",
   "name": "python3"
  },
  "language_info": {
   "codemirror_mode": {
    "name": "ipython",
    "version": 3
   },
   "file_extension": ".py",
   "mimetype": "text/x-python",
   "name": "python",
   "nbconvert_exporter": "python",
   "pygments_lexer": "ipython3",
   "version": "3.9.12"
  },
  "orig_nbformat": 4,
  "vscode": {
   "interpreter": {
    "hash": "89782830f27e149c8b4223f8b7ce128939efd6823dba76c1334b0af5741efeff"
   }
  }
 },
 "nbformat": 4,
 "nbformat_minor": 2
}
